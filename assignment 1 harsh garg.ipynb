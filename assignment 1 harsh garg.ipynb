{
 "cells": [
  {
   "cell_type": "markdown",
   "metadata": {},
   "source": [
    " # ASSIGNMENT 1 (Harsh Garg)"
   ]
  },
  {
   "cell_type": "markdown",
   "metadata": {},
   "source": [
    "## Q. 1"
   ]
  },
  {
   "cell_type": "code",
   "execution_count": 4,
   "metadata": {},
   "outputs": [],
   "source": [
    "a=10\n",
    "b=4\n",
    "a=a+b\n",
    "b=a-b"
   ]
  },
  {
   "cell_type": "code",
   "execution_count": 5,
   "metadata": {},
   "outputs": [
    {
     "name": "stdout",
     "output_type": "stream",
     "text": [
      "4 10\n"
     ]
    }
   ],
   "source": [
    "a=a-b\n",
    "\n",
    "print(a,b)"
   ]
  },
  {
   "cell_type": "markdown",
   "metadata": {},
   "source": [
    "## Q. 2"
   ]
  },
  {
   "cell_type": "code",
   "execution_count": 7,
   "metadata": {},
   "outputs": [
    {
     "name": "stdout",
     "output_type": "stream",
     "text": [
      "enter a number5\n",
      "number is odd\n"
     ]
    }
   ],
   "source": [
    "a= int(input(\"enter a number\"))\n",
    "if a%2==0:\n",
    "    print(\"number is even\")\n",
    "else:\n",
    "    print(\"number is odd\")"
   ]
  },
  {
   "cell_type": "markdown",
   "metadata": {},
   "source": [
    "## Q. 3"
   ]
  },
  {
   "cell_type": "code",
   "execution_count": 4,
   "metadata": {},
   "outputs": [
    {
     "name": "stdout",
     "output_type": "stream",
     "text": [
      "enter a number6\n",
      "square root of the nummber is  2.449489742783178\n"
     ]
    }
   ],
   "source": [
    "a=int(input(\"enter a number\"))                       \n",
    "import math\n",
    "b= float(math.sqrt(a))\n",
    "print(\"square root of the nummber is \", b)\n",
    "\n"
   ]
  },
  {
   "cell_type": "markdown",
   "metadata": {},
   "source": [
    "## Q.4"
   ]
  },
  {
   "cell_type": "code",
   "execution_count": 10,
   "metadata": {},
   "outputs": [
    {
     "name": "stdout",
     "output_type": "stream",
     "text": [
      "enter a number3\n",
      "01\n",
      "12\n",
      "23\n",
      "0\n",
      "1\n",
      "2\n"
     ]
    }
   ],
   "source": [
    "b=[]\n",
    "n = int(input(\"enter a number\"))\n",
    "for i in range (0,n):\n",
    "    input(i)\n",
    "    b.append(i)\n",
    "                \n",
    "        \n",
    "for j in b:\n",
    "    print(j)\n",
    "for k in range (b[i],0):\n",
    "    print(k)"
   ]
  },
  {
   "cell_type": "markdown",
   "metadata": {},
   "source": [
    "## Q. 5"
   ]
  },
  {
   "cell_type": "code",
   "execution_count": 13,
   "metadata": {},
   "outputs": [
    {
     "name": "stdout",
     "output_type": "stream",
     "text": [
      "523.3333333333334\n"
     ]
    }
   ],
   "source": [
    "r=5\n",
    "volume=float((4/3)*3.14*r**3)\n",
    "print(volume)"
   ]
  },
  {
   "cell_type": "markdown",
   "metadata": {},
   "source": [
    "## Q. 6"
   ]
  },
  {
   "cell_type": "code",
   "execution_count": 20,
   "metadata": {},
   "outputs": [
    {
     "name": "stdout",
     "output_type": "stream",
     "text": [
      "even no\n",
      "0\n",
      "2\n",
      "4\n",
      "6\n",
      "8\n",
      "10\n",
      "12\n",
      "14\n",
      "16\n",
      "18\n",
      "20\n",
      "22\n",
      "24\n",
      "26\n",
      "28\n",
      "30\n",
      "32\n",
      "34\n",
      "36\n",
      "38\n",
      "40\n",
      "42\n",
      "44\n",
      "46\n",
      "48\n",
      "50\n",
      "52\n",
      "54\n",
      "56\n",
      "58\n",
      "60\n",
      "62\n",
      "64\n",
      "66\n",
      "68\n",
      "70\n",
      "72\n",
      "74\n",
      "76\n",
      "78\n",
      "80\n",
      "82\n",
      "84\n",
      "86\n",
      "88\n",
      "90\n",
      "92\n",
      "94\n",
      "96\n",
      "98\n",
      "odd no 50\n",
      "even no 50\n",
      "odd no\n",
      "1\n",
      "3\n",
      "5\n",
      "7\n",
      "9\n",
      "11\n",
      "13\n",
      "15\n",
      "17\n",
      "19\n",
      "21\n",
      "23\n",
      "25\n",
      "27\n",
      "29\n",
      "31\n",
      "33\n",
      "35\n",
      "37\n",
      "39\n",
      "41\n",
      "43\n",
      "45\n",
      "47\n",
      "49\n",
      "51\n",
      "53\n",
      "55\n",
      "57\n",
      "59\n",
      "61\n",
      "63\n",
      "65\n",
      "67\n",
      "69\n",
      "71\n",
      "73\n",
      "75\n",
      "77\n",
      "79\n",
      "81\n",
      "83\n",
      "85\n",
      "87\n",
      "89\n",
      "91\n",
      "93\n",
      "95\n",
      "97\n",
      "99\n"
     ]
    }
   ],
   "source": [
    "n= 100\n",
    "ceven=0\n",
    "codd=0\n",
    "print(\"even no\")\n",
    "for i in range (0,n):\n",
    "    if i%2==0:\n",
    "        ceven+=1\n",
    "        print(i)\n",
    "        \n",
    "    else:\n",
    "        codd+=1\n",
    "        pass\n",
    "print(\"odd no {}\".format(ceven))\n",
    "print(\"even no {}\".format(codd))\n",
    "\n",
    "\n",
    "print(\"odd no\")\n",
    "for i in range (0,n):\n",
    "    if i%2==0:\n",
    "        pass\n",
    "    else:\n",
    "        print(i)\n",
    "\n",
    "    "
   ]
  },
  {
   "cell_type": "markdown",
   "metadata": {},
   "source": [
    "## Q. 7\n"
   ]
  },
  {
   "cell_type": "code",
   "execution_count": null,
   "metadata": {},
   "outputs": [],
   "source": []
  },
  {
   "cell_type": "code",
   "execution_count": null,
   "metadata": {},
   "outputs": [],
   "source": [
    "\n",
    "\n",
    "\n"
   ]
  },
  {
   "cell_type": "code",
   "execution_count": 2,
   "metadata": {},
   "outputs": [
    {
     "name": "stdout",
     "output_type": "stream",
     "text": [
      " enter coeff. of quad. equation\n",
      "a=1\n",
      "b=2\n",
      "c=3\n"
     ]
    },
    {
     "ename": "ValueError",
     "evalue": "math domain error",
     "output_type": "error",
     "traceback": [
      "\u001b[1;31m---------------------------------------------------------------------------\u001b[0m",
      "\u001b[1;31mValueError\u001b[0m                                Traceback (most recent call last)",
      "\u001b[1;32m<ipython-input-2-adfb90682d54>\u001b[0m in \u001b[0;36m<module>\u001b[1;34m\u001b[0m\n\u001b[0;32m      6\u001b[0m \u001b[0md\u001b[0m\u001b[1;33m=\u001b[0m\u001b[0mint\u001b[0m\u001b[1;33m(\u001b[0m\u001b[1;33m(\u001b[0m\u001b[0mb\u001b[0m\u001b[1;33m**\u001b[0m\u001b[1;36m2\u001b[0m\u001b[1;33m)\u001b[0m\u001b[1;33m-\u001b[0m\u001b[1;33m(\u001b[0m\u001b[1;36m4\u001b[0m\u001b[1;33m*\u001b[0m\u001b[0ma\u001b[0m\u001b[1;33m*\u001b[0m\u001b[0mc\u001b[0m\u001b[1;33m)\u001b[0m\u001b[1;33m)\u001b[0m\u001b[1;33m\u001b[0m\u001b[1;33m\u001b[0m\u001b[0m\n\u001b[0;32m      7\u001b[0m \u001b[1;33m\u001b[0m\u001b[0m\n\u001b[1;32m----> 8\u001b[1;33m \u001b[0me\u001b[0m\u001b[1;33m=\u001b[0m \u001b[0mmath\u001b[0m\u001b[1;33m.\u001b[0m\u001b[0msqrt\u001b[0m\u001b[1;33m(\u001b[0m\u001b[0md\u001b[0m\u001b[1;33m)\u001b[0m\u001b[1;33m\u001b[0m\u001b[1;33m\u001b[0m\u001b[0m\n\u001b[0m\u001b[0;32m      9\u001b[0m \u001b[0mprint\u001b[0m\u001b[1;33m(\u001b[0m\u001b[1;34m\"root 1 is\"\u001b[0m\u001b[1;33m)\u001b[0m\u001b[1;33m\u001b[0m\u001b[1;33m\u001b[0m\u001b[0m\n\u001b[0;32m     10\u001b[0m \u001b[0mp\u001b[0m\u001b[1;33m=\u001b[0m\u001b[1;33m(\u001b[0m\u001b[1;33m-\u001b[0m\u001b[0mb\u001b[0m\u001b[1;33m+\u001b[0m \u001b[0me\u001b[0m\u001b[1;33m)\u001b[0m\u001b[1;33m/\u001b[0m\u001b[1;36m2\u001b[0m\u001b[1;33m*\u001b[0m\u001b[0ma\u001b[0m\u001b[1;33m\u001b[0m\u001b[1;33m\u001b[0m\u001b[0m\n",
      "\u001b[1;31mValueError\u001b[0m: math domain error"
     ]
    }
   ],
   "source": [
    "import math\n",
    "print(\" enter coeff. of quad. equation\")\n",
    "a=int(input(\"a=\"))\n",
    "b=int(input(\"b=\"))\n",
    "c=int(input(\"c=\"))\n",
    "d=int((b**2)-(4*a*c))\n",
    "\n",
    "e= math.sqrt(d)\n",
    "print(\"root 1 is\")\n",
    "p=(-b+ e)/2*a\n",
    "print(p)\n",
    "print(\"root 2 is\")\n",
    "q=(-b- e)/(2*a)"
   ]
  },
  {
   "cell_type": "markdown",
   "metadata": {},
   "source": [
    "## Q. 8"
   ]
  },
  {
   "cell_type": "code",
   "execution_count": 3,
   "metadata": {},
   "outputs": [
    {
     "name": "stdout",
     "output_type": "stream",
     "text": [
      "enter a no456\n",
      "entered number has 3 digits\n"
     ]
    }
   ],
   "source": [
    "a= input(\"enter a no\")\n",
    "b=len(a)\n",
    "\n",
    "print(\"entered number has {} digits\".format(b))\n",
    "\n"
   ]
  },
  {
   "cell_type": "markdown",
   "metadata": {},
   "source": [
    "## Q. 9"
   ]
  },
  {
   "cell_type": "code",
   "execution_count": 6,
   "metadata": {},
   "outputs": [
    {
     "name": "stdout",
     "output_type": "stream",
     "text": [
      "enter a NUMBER788\n",
      "false\n"
     ]
    }
   ],
   "source": [
    "a= int(input (\"enter a NUMBER\"))\n",
    "for i in range(2,a//2):\n",
    "    if a%i==0:\n",
    "        print(\"false\")\n",
    "        break\n",
    "    else:\n",
    "        print(\"true\")\n",
    "\n"
   ]
  },
  {
   "cell_type": "markdown",
   "metadata": {},
   "source": [
    "## Q. 10\n"
   ]
  },
  {
   "cell_type": "code",
   "execution_count": 16,
   "metadata": {},
   "outputs": [
    {
     "name": "stdout",
     "output_type": "stream",
     "text": [
      "enter a number17\n",
      "60\n"
     ]
    }
   ],
   "source": [
    "a= int(input(\"enter a number\"))\n",
    "sum=0\n",
    "for i in range (1,a+1):\n",
    "    if i%3==0 or i%5==0:\n",
    "        sum+=i\n",
    "    else:\n",
    "        pass\n",
    "    \n",
    "print(sum)        \n",
    "    \n",
    "    "
   ]
  },
  {
   "cell_type": "markdown",
   "metadata": {},
   "source": [
    "## Q. 11"
   ]
  },
  {
   "cell_type": "code",
   "execution_count": 6,
   "metadata": {},
   "outputs": [
    {
     "name": "stdout",
     "output_type": "stream",
     "text": [
      "enter a num7\n",
      "sum or product ?sum\n",
      "sum is 28\n",
      "1\n"
     ]
    }
   ],
   "source": [
    "a=int (input (\"enter a num\"))\n",
    "b=input(\"sum or product ?\")\n",
    "sum=0\n",
    "pro=1\n",
    "for i in range(0,a+1):\n",
    "    if b==\"sum\":\n",
    "        sum+=i\n",
    "    elif b==\"product\":\n",
    "        pro*=i\n",
    "print(\"sum is {}\".format(sum))\n",
    "print(pro)\n",
    "        \n",
    "        \n",
    "        \n",
    "    "
   ]
  },
  {
   "cell_type": "markdown",
   "metadata": {},
   "source": [
    "## Q. 12"
   ]
  },
  {
   "cell_type": "code",
   "execution_count": 22,
   "metadata": {},
   "outputs": [
    {
     "name": "stdout",
     "output_type": "stream",
     "text": [
      "466\n"
     ]
    }
   ],
   "source": [
    "count=0\n",
    "for i in range(1,1000):\n",
    "    if i%3==0 or i%5==0:\n",
    "        count+=1\n",
    "        pass\n",
    "    else:\n",
    "        pass\n",
    "print(count)    "
   ]
  },
  {
   "cell_type": "markdown",
   "metadata": {},
   "source": [
    "## Q. 13"
   ]
  },
  {
   "cell_type": "code",
   "execution_count": 27,
   "metadata": {},
   "outputs": [
    {
     "name": "stdout",
     "output_type": "stream",
     "text": [
      "2002,2009,2016,2023,2037,2044,2051,2058,2072,2079,2086,2093,2107,2114,2121,2128,2142,2149,2156,2163,2177,2184,2191,2198,2212,2219,2226,2233,2247,2254,2261,2268,2282,2289,2296,2303,2317,2324,2331,2338,2352,2359,2366,2373,2387,2394,2401,2408,2422,2429,2436,2443,2457,2464,2471,2478,2492,2499,2506,2513,2527,2534,2541,2548,2562,2569,2576,2583,2597,2604,2611,2618,2632,2639,2646,2653,2667,2674,2681,2688,2702,2709,2716,2723,2737,2744,2751,2758,2772,2779,2786,2793,2807,2814,2821,2828,2842,2849,2856,2863,2877,2884,2891,2898,2912,2919,2926,2933,2947,2954,2961,2968,2982,2989,2996,3003,3017,3024,3031,3038,3052,3059,3066,3073,3087,3094,3101,3108,3122,3129,3136,3143,3157,3164,3171,3178,3192,3199,"
     ]
    }
   ],
   "source": [
    "sum=0\n",
    "for i in range(2000,3200):\n",
    "    if i%7==0:\n",
    "        if i%5==0:\n",
    "            continue\n",
    "        else:\n",
    "            print(i, end=\",\")\n",
    "           \n",
    "            "
   ]
  },
  {
   "cell_type": "markdown",
   "metadata": {},
   "source": [
    "## Q. 14\n"
   ]
  },
  {
   "cell_type": "code",
   "execution_count": 29,
   "metadata": {},
   "outputs": [
    {
     "name": "stdout",
     "output_type": "stream",
     "text": [
      "sum: 328350\n",
      "square of sum: 107813722500\n",
      "difference: 107813394150\n"
     ]
    }
   ],
   "source": [
    "a=100\n",
    "sum=0\n",
    "for i in range(0,100):\n",
    "    sum+=i**2\n",
    "print(\"sum:\", sum)    \n",
    "sumsqr= sum**2\n",
    "print(\"square of sum:\", sumsqr)\n",
    "diff= sumsqr-sum\n",
    "print(\"difference:\", diff)"
   ]
  },
  {
   "cell_type": "markdown",
   "metadata": {},
   "source": [
    "## Q. 15"
   ]
  },
  {
   "cell_type": "code",
   "execution_count": 42,
   "metadata": {},
   "outputs": [
    {
     "name": "stdout",
     "output_type": "stream",
     "text": [
      "enter your num1\n",
      "enter str or chars\n",
      "enter your num3\n",
      "enter str or charg\n",
      "enter your num77\n",
      "enter str or charstop\n",
      "total: 81\n",
      "count: 3\n",
      "avg: 27.0\n"
     ]
    }
   ],
   "source": [
    "tot=0\n",
    "count=0\n",
    "a=\"\"\n",
    "while(a!=\"stop\"):\n",
    "    n=int(input(\"enter your num\"))\n",
    "    tot+=n\n",
    "    count+=1\n",
    "    a=input(\"enter str or char\")\n",
    "print(\"total:\", tot)\n",
    "print(\"count:\",count)\n",
    "avg=tot/count\n",
    "print(\"avg:\",avg)\n",
    "    \n",
    "    "
   ]
  },
  {
   "cell_type": "markdown",
   "metadata": {},
   "source": [
    "## Q. 16"
   ]
  },
  {
   "cell_type": "code",
   "execution_count": 46,
   "metadata": {},
   "outputs": [
    {
     "name": "stdout",
     "output_type": "stream",
     "text": [
      "enter a number567\n",
      "2 ,, 3 ,, 4 ,, 5 ,, 7 ,, 11 ,, 13 ,, 17 ,, 19 ,, 23 ,, 29 ,, 31 ,, 37 ,, 41 ,, 43 ,, 47 ,, 53 ,, 59 ,, 61 ,, 67 ,, 71 ,, 73 ,, 79 ,, 83 ,, 89 ,, 97 ,, 101 ,, 103 ,, 107 ,, 109 ,, 113 ,, 127 ,, 131 ,, 137 ,, 139 ,, 149 ,, 151 ,, 157 ,, 163 ,, 167 ,, 173 ,, 179 ,, 181 ,, 191 ,, 193 ,, 197 ,, 199 ,, 211 ,, 223 ,, 227 ,, 229 ,, 233 ,, 239 ,, 241 ,, 251 ,, 257 ,, 263 ,, 269 ,, 271 ,, 277 ,, 281 ,, 283 ,, 293 ,, 307 ,, 311 ,, 313 ,, 317 ,, 331 ,, 337 ,, 347 ,, 349 ,, 353 ,, 359 ,, 367 ,, 373 ,, 379 ,, 383 ,, 389 ,, 397 ,, 401 ,, 409 ,, 419 ,, 421 ,, 431 ,, 433 ,, 439 ,, 443 ,, 449 ,, 457 ,, 461 ,, 463 ,, 467 ,, 479 ,, 487 ,, 491 ,, 499 ,, 503 ,, 509 ,, 521 ,, 523 ,, 541 ,, 547 ,, 557 ,, 563 ,, "
     ]
    }
   ],
   "source": [
    "def primeno(a):\n",
    "    count=1\n",
    "    for i in range(2,a//2):\n",
    "        if a%i==0:\n",
    "            count=0\n",
    "            break\n",
    "    if(count!=0):\n",
    "        return 1\n",
    "    else:\n",
    "        return 0\n",
    "        \n",
    "            \n",
    "b= int(input(\"enter a number\"))\n",
    "for i in range (2,b+1):\n",
    "    ifitsprime= primeno(i)\n",
    "    if(ifitsprime==1):\n",
    "        print(i,end=\" ,, \")\n",
    "    "
   ]
  },
  {
   "cell_type": "markdown",
   "metadata": {},
   "source": [
    "## Q. 17"
   ]
  },
  {
   "cell_type": "code",
   "execution_count": 8,
   "metadata": {},
   "outputs": [
    {
     "name": "stdout",
     "output_type": "stream",
     "text": [
      "enter a no5\n",
      "factorial of 5 is 120\n"
     ]
    }
   ],
   "source": [
    "a= int(input(\"enter a no\"))\n",
    "fact=1\n",
    "for i in range(1,a+1):\n",
    "    fact*=i\n",
    "print(\"factorial of {} is {}\".format(a,fact))    \n",
    "    "
   ]
  },
  {
   "cell_type": "markdown",
   "metadata": {},
   "source": [
    "## Q. 18"
   ]
  },
  {
   "cell_type": "code",
   "execution_count": 4,
   "metadata": {},
   "outputs": [
    {
     "name": "stdout",
     "output_type": "stream",
     "text": [
      "enter no5\n",
      "0 1,1,2,3,5,8,"
     ]
    }
   ],
   "source": [
    "a=0\n",
    "b=1\n",
    "n=int(input(\"enter no\"))\n",
    "print(a,b, end=\",\")\n",
    "\n",
    "for i in range(1,n+1):\n",
    "    c=a+b\n",
    "    print(c, end=\",\")\n",
    "    a=b\n",
    "    b=c"
   ]
  },
  {
   "cell_type": "markdown",
   "metadata": {},
   "source": [
    "## Q. 19"
   ]
  },
  {
   "cell_type": "code",
   "execution_count": null,
   "metadata": {},
   "outputs": [],
   "source": []
  },
  {
   "cell_type": "markdown",
   "metadata": {},
   "source": [
    "## Q. 20"
   ]
  },
  {
   "cell_type": "code",
   "execution_count": 14,
   "metadata": {},
   "outputs": [
    {
     "name": "stdout",
     "output_type": "stream",
     "text": [
      "enter a no :  675\n",
      "factors of 675 are\n",
      "1,3,5,9,15,25,27,45,75,135,225,675,"
     ]
    }
   ],
   "source": [
    "a= int(input(\"enter a no :  \"))\n",
    "print(\"factors of {} are\".format(a))\n",
    "for i in range(1,a+1):\n",
    "    if a%i==0:\n",
    "        print(i,end=\",\")\n",
    "    "
   ]
  },
  {
   "cell_type": "markdown",
   "metadata": {},
   "source": [
    "## Q. 21\n",
    "### 01)"
   ]
  },
  {
   "cell_type": "code",
   "execution_count": 33,
   "metadata": {},
   "outputs": [
    {
     "name": "stdout",
     "output_type": "stream",
     "text": [
      "* \n",
      "\n",
      "* * \n",
      "\n",
      "* * * \n",
      "\n",
      "* * * * \n",
      "\n",
      "* * * * * \n",
      "\n"
     ]
    }
   ],
   "source": [
    "for i in range(0,5):\n",
    "    for j in range(0,i+1):\n",
    "        print(\"*\" , end=\" \")\n",
    "    print(\"\\n\")    "
   ]
  },
  {
   "cell_type": "markdown",
   "metadata": {},
   "source": [
    "  \n",
    "### 02)"
   ]
  },
  {
   "cell_type": "code",
   "execution_count": 47,
   "metadata": {},
   "outputs": [
    {
     "name": "stdout",
     "output_type": "stream",
     "text": [
      "* * * * * * * \n",
      "\n",
      "* * * * * * \n",
      "\n",
      "* * * * * \n",
      "\n",
      "* * * * \n",
      "\n",
      "* * * \n",
      "\n",
      "* * \n",
      "\n",
      "* \n",
      "\n"
     ]
    }
   ],
   "source": [
    "for i in range(7,0,-1):\n",
    "    for j in range(1,i+1):\n",
    "        print(\"*\" , end=\" \")\n",
    "    print(\"\\n\")    "
   ]
  },
  {
   "cell_type": "markdown",
   "metadata": {},
   "source": [
    "### 3)"
   ]
  },
  {
   "cell_type": "code",
   "execution_count": 51,
   "metadata": {},
   "outputs": [
    {
     "name": "stdout",
     "output_type": "stream",
     "text": [
      "1 \n",
      "\n",
      "2 2 \n",
      "\n",
      "3 3 3 \n",
      "\n",
      "4 4 4 4 \n",
      "\n",
      "5 5 5 5 5 \n",
      "\n"
     ]
    }
   ],
   "source": [
    "for i in range(1,6):\n",
    "    for j in range(1,i+1):\n",
    "        print(i, end=\" \")\n",
    "    print(\"\\n\")    "
   ]
  },
  {
   "cell_type": "markdown",
   "metadata": {},
   "source": [
    "### 4)"
   ]
  },
  {
   "cell_type": "code",
   "execution_count": 16,
   "metadata": {},
   "outputs": [
    {
     "name": "stdout",
     "output_type": "stream",
     "text": [
      "\n",
      "         * \n",
      "       *  * \n",
      "     *  *  * \n",
      "   *  *  *  * \n",
      " *  *  *  *  * "
     ]
    }
   ],
   "source": [
    "p=1\n",
    "q=1\n",
    "for i in range(5,0,-1):\n",
    "    print(\"\")\n",
    "    for j in range(5,p,-1):\n",
    "        print(\" \", end=\" \")\n",
    "    for k in range(0,p):\n",
    "        print(\" *\", end=\" \")\n",
    "    p+=1 \n",
    "    q+=1"
   ]
  },
  {
   "cell_type": "markdown",
   "metadata": {},
   "source": [
    "### 5)"
   ]
  },
  {
   "cell_type": "code",
   "execution_count": 4,
   "metadata": {},
   "outputs": [
    {
     "name": "stdout",
     "output_type": "stream",
     "text": [
      "\n",
      "\n",
      "1 \n",
      "\n",
      "2 3 \n",
      "\n",
      "4 5 6 \n",
      "\n",
      "7 8 9 10 \n",
      "\n"
     ]
    }
   ],
   "source": [
    "n=0\n",
    "for i in range(0,5):\n",
    "    for j in range(1,i+1):\n",
    "        n+=1\n",
    "        print(n, end=\" \")\n",
    "    print(\"\\n\")"
   ]
  },
  {
   "cell_type": "markdown",
   "metadata": {},
   "source": [
    "### 6)"
   ]
  },
  {
   "cell_type": "code",
   "execution_count": null,
   "metadata": {},
   "outputs": [],
   "source": []
  },
  {
   "cell_type": "code",
   "execution_count": null,
   "metadata": {},
   "outputs": [],
   "source": [
    "\n",
    "\n"
   ]
  },
  {
   "cell_type": "code",
   "execution_count": null,
   "metadata": {},
   "outputs": [],
   "source": []
  },
  {
   "cell_type": "markdown",
   "metadata": {},
   "source": [
    "## Q. 22"
   ]
  },
  {
   "cell_type": "code",
   "execution_count": 2,
   "metadata": {},
   "outputs": [
    {
     "name": "stdout",
     "output_type": "stream",
     "text": [
      "enter a num5\n",
      "55 505 5005 50005 500005 5000005 "
     ]
    }
   ],
   "source": [
    "a=int(input(\"enter a num\"))\n",
    "b=0\n",
    "for i in range(1,7):\n",
    "    b=a*10**i +a\n",
    "    \n",
    "    \n",
    "    \n",
    "    print(b, end=\" \")"
   ]
  },
  {
   "cell_type": "code",
   "execution_count": null,
   "metadata": {},
   "outputs": [],
   "source": []
  }
 ],
 "metadata": {
  "kernelspec": {
   "display_name": "Python 3",
   "language": "python",
   "name": "python3"
  },
  "language_info": {
   "codemirror_mode": {
    "name": "ipython",
    "version": 3
   },
   "file_extension": ".py",
   "mimetype": "text/x-python",
   "name": "python",
   "nbconvert_exporter": "python",
   "pygments_lexer": "ipython3",
   "version": "3.7.3"
  }
 },
 "nbformat": 4,
 "nbformat_minor": 2
}
